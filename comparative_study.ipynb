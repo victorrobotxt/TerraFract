{
 "cells": [
  {
   "cell_type": "markdown",
   "id": "e946eaa5",
   "metadata": {},
   "source": [
    "# Comparative Study of Terrain Generators\n",
    "This notebook generates and compares terrain heightmaps produced by three different fractal algorithms: Diamond-Square (DS), Fractal Brownian Motion (FBM), and a Hybrid mix of both. We keep the mean elevation constant across maps, then analyze their elevation distributions, power spectra, and estimate fractal (box-counting) dimensions."
   ]
  },
  {
   "cell_type": "markdown",
   "id": "021762e4",
   "metadata": {},
   "source": [
    "## 1. Imports and Helper Functions"
   ]
  },
  {
   "cell_type": "code",
   "execution_count": null,
   "id": "6f6ec68e",
   "metadata": {},
   "outputs": [],
   "source": [
    "import numpy as np\n",
    "import matplotlib.pyplot as plt\n",
    "from heightmap_generators import generate_heightmap\n",
    "from scipy import fftpack\n",
    "\n",
    "def equalize_mean(Z, target_mean=0.5):\n",
    "    Zn = (Z - Z.min()) / (Z.max() - Z.min())\n",
    "    curr_mean = Zn.mean()\n",
    "    Z_eq = np.clip(Zn + (target_mean - curr_mean), 0, 1)\n",
    "    return Z_eq\n",
    "\n",
    "def radial_power_spectrum(Z):\n",
    "    F = fftpack.fftshift(fftpack.fft2(Z))\n",
    "    P = np.abs(F)**2\n",
    "    ny, nx = Z.shape\n",
    "    cy, cx = ny // 2, nx // 2\n",
    "    y, x = np.indices(P.shape)\n",
    "    r = np.hypot(x - cx, y - cy).astype(int)\n",
    "    tbin = np.bincount(r.ravel(), P.ravel())\n",
    "    nr = np.bincount(r.ravel())\n",
    "    radial = tbin / np.maximum(nr, 1)\n",
    "    freqs = np.arange(len(radial))\n",
    "    return freqs[1:], radial[1:]\n",
    "\n",
    "def box_count_dim(Z, sizes=None):\n",
    "    bin_map = Z > Z.mean()\n",
    "    n = Z.shape[0]\n",
    "    if sizes is None:\n",
    "        max_exp = int(np.log2(n))\n",
    "        sizes = [2**i for i in range(1, max_exp)]\n",
    "    counts = []\n",
    "    for size in sizes:\n",
    "        num = 0\n",
    "        grid_count = n // size\n",
    "        for i in range(grid_count):\n",
    "            for j in range(grid_count):\n",
    "                if bin_map[i*size:(i+1)*size, j*size:(j+1)*size].any():\n",
    "                    num += 1\n",
    "        counts.append(num)\n",
    "    logs = np.log(counts)\n",
    "    logs_inv = np.log(1/np.array(sizes))\n",
    "    slope, _ = np.polyfit(logs_inv, logs, 1)\n",
    "    return slope\n"
   ]
  },
  {
   "cell_type": "markdown",
   "id": "b860cea2",
   "metadata": {},
   "source": [
    "## 2. Generate and Equalize Terrains"
   ]
  },
  {
   "cell_type": "code",
   "execution_count": null,
   "id": "93c7e513",
   "metadata": {},
   "outputs": [],
   "source": [
    "# Parameters\n",
    "size = 129\n",
    "seed = 42\n",
    "\n",
    "# Generate heightmaps\n",
    "Z_ds = generate_heightmap('diamond-square', size=size, seed=seed, roughness=1.0)\n",
    "Z_fbm = generate_heightmap('fbm', size=size, seed=seed, octaves=6, persistence=0.5, lacunarity=2.0, scale=50.0)\n",
    "# Hybrid: average of DS and FBM\n",
    "Z_hyb = 0.5 * Z_ds + 0.5 * Z_fbm\n",
    "\n",
    "# Equalize mean elevation\n",
    "Z_ds_eq = equalize_mean(Z_ds)\n",
    "Z_fbm_eq = equalize_mean(Z_fbm)\n",
    "Z_hyb_eq = equalize_mean(Z_hyb)"
   ]
  },
  {
   "cell_type": "markdown",
   "id": "1ebba83c",
   "metadata": {},
   "source": [
    "## 3. Elevation Histograms"
   ]
  },
  {
   "cell_type": "code",
   "execution_count": null,
   "id": "6b345170",
   "metadata": {},
   "outputs": [],
   "source": [
    "fig, axs = plt.subplots(1,3, figsize=(15,4))\n",
    "for ax, Z, title in zip(axs, [Z_ds_eq, Z_fbm_eq, Z_hyb_eq], ['Diamond-Square','FBM','Hybrid']):\n",
    "    ax.hist(Z.ravel(), bins=50)\n",
    "    ax.set_title(f\"{title} Elevation Histogram\")\n",
    "    ax.set_xlabel('Elevation')\n",
    "    ax.set_ylabel('Frequency')\n",
    "plt.tight_layout()\n",
    "plt.show()"
   ]
  },
  {
   "cell_type": "markdown",
   "id": "413cc557",
   "metadata": {},
   "source": [
    "## 4. Power Spectrum (Log-Log)"
   ]
  },
  {
   "cell_type": "code",
   "execution_count": null,
   "id": "79420087",
   "metadata": {},
   "outputs": [],
   "source": [
    "fig, axs = plt.subplots(1,3, figsize=(15,4))\n",
    "for ax, Z, title in zip(axs, [Z_ds_eq, Z_fbm_eq, Z_hyb_eq], ['Diamond-Square','FBM','Hybrid']):\n",
    "    f, P = radial_power_spectrum(Z)\n",
    "    ax.loglog(f, P)\n",
    "    ax.set_title(f\"{title} Power Spectrum\")\n",
    "    ax.set_xlabel('Frequency')\n",
    "    ax.set_ylabel('Power')\n",
    "plt.tight_layout()\n",
    "plt.show()"
   ]
  },
  {
   "cell_type": "markdown",
   "id": "a199411e",
   "metadata": {},
   "source": [
    "## 5. Box-Counting Dimension Estimates"
   ]
  },
  {
   "cell_type": "code",
   "execution_count": null,
   "id": "15bcfd02",
   "metadata": {},
   "outputs": [],
   "source": [
    "dims = { 'Diamond-Square': box_count_dim(Z_ds_eq),\n",
    "         'FBM': box_count_dim(Z_fbm_eq),\n",
    "         'Hybrid': box_count_dim(Z_hyb_eq) }\n",
    "import pandas as pd\n",
    "df = pd.DataFrame.from_dict(dims, orient='index', columns=['Box-Counting Dimension'])\n",
    "df"
   ]
  },
  {
   "cell_type": "markdown",
   "id": "d8e19ce0",
   "metadata": {},
   "source": [
    "## 6. Discussion\n",
    "Based on the elevation distributions, power spectra slopes, and fractal dimensions above, discuss which algorithm best matches real-world terrain statistics. For example, compare spectral slope values to those observed in natural DEMs (β≈2.5–3.0) and fractal dimensions (≈2.2–2.7)."
   ]
  }
 ],
 "metadata": {
  "language_info": {
   "name": "python"
  }
 },
 "nbformat": 4,
 "nbformat_minor": 5
}
